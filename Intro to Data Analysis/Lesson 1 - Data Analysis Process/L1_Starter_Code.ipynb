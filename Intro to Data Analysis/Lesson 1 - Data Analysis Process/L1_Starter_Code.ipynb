{
 "cells": [
  {
   "cell_type": "markdown",
   "metadata": {},
   "source": [
    "Before we get started, a couple of reminders to keep in mind when using iPython notebooks:\n",
    "\n",
    "- Remember that you can see from the left side of a code cell when it was last run if there is a number within the brackets.\n",
    "- When you start a new notebook session, make sure you run all of the cells up to the point where you last left off. Even if the output is still visible from when you ran the cells in your previous session, the kernel starts in a fresh state so you'll need to reload the data, etc. on a new session.\n",
    "- The previous point is useful to keep in mind if your answers do not match what is expected in the lesson's quizzes. Try reloading the data and run all of the processing steps one by one in order to make sure that you are working with the same variables and data that are at each quiz stage.\n",
    "\n",
    "\n",
    "## Load Data from CSVs"
   ]
  },
  {
   "cell_type": "code",
   "execution_count": 1,
   "metadata": {},
   "outputs": [
    {
     "name": "stdout",
     "output_type": "stream",
     "text": [
      "Home directory /Users/cinq/Documents/Udacity/Intro to Data Analysis/Lesson 1\n"
     ]
    },
    {
     "data": {
      "text/plain": [
       "{u'account_key': u'448',\n",
       " u'cancel_date': u'2015-01-14',\n",
       " u'days_to_cancel': u'65',\n",
       " u'is_canceled': u'True',\n",
       " u'is_udacity': u'True',\n",
       " u'join_date': u'2014-11-10',\n",
       " u'status': u'canceled'}"
      ]
     },
     "execution_count": 1,
     "metadata": {},
     "output_type": "execute_result"
    }
   ],
   "source": [
    "import unicodecsv\n",
    "\n",
    "import os\n",
    "print 'Home directory',os.getcwd()\n",
    "## Longer version of code (replaced with shorter, equivalent version below)\n",
    "\n",
    "# enrollments = []\n",
    "# f = open('enrollments.csv', 'rb')\n",
    "# reader = unicodecsv.DictReader(f)\n",
    "# for row in reader:\n",
    "#     enrollments.append(row)\n",
    "# f.close()\n",
    "\n",
    "with open('enrollments.csv', 'rb') as f:\n",
    "    reader = unicodecsv.DictReader(f)\n",
    "    enrollments = list(reader)\n",
    "    \n",
    "enrollments[0]"
   ]
  },
  {
   "cell_type": "code",
   "execution_count": 2,
   "metadata": {},
   "outputs": [
    {
     "name": "stdout",
     "output_type": "stream",
     "text": [
      "{u'lessons_completed': u'0.0', u'num_courses_visited': u'1.0', u'total_minutes_visited': u'11.6793745', u'projects_completed': u'0.0', u'acct': u'0', u'utc_date': u'2015-01-09'}\n",
      "{u'lesson_key': u'3176718735', u'processing_state': u'EVALUATED', u'account_key': u'256', u'assigned_rating': u'UNGRADED', u'completion_date': u'2015-01-16', u'creation_date': u'2015-01-14'}\n"
     ]
    }
   ],
   "source": [
    "#####################################\n",
    "#                 1                 #\n",
    "#####################################\n",
    "\n",
    "## Read in the data from daily_engagement.csv and project_submissions.csv \n",
    "## and store the results in the below variables.\n",
    "## Then look at the first row of each table.\n",
    "\n",
    "with open('daily_engagement.csv', 'rb') as d:\n",
    "    reader = unicodecsv.DictReader(d)\n",
    "    daily_engagement = list(reader)\n",
    "\n",
    "print daily_engagement[0]\n",
    "\n",
    "with open('project_submissions.csv', 'rb') as p:\n",
    "    reader = unicodecsv.DictReader(p)\n",
    "    project_submissions = list(reader)\n",
    "\n",
    "print project_submissions[0]\n",
    "\n"
   ]
  },
  {
   "cell_type": "markdown",
   "metadata": {},
   "source": [
    "## Fixing Data Types"
   ]
  },
  {
   "cell_type": "code",
   "execution_count": 3,
   "metadata": {},
   "outputs": [
    {
     "data": {
      "text/plain": [
       "{u'account_key': u'448',\n",
       " u'cancel_date': datetime.datetime(2015, 1, 14, 0, 0),\n",
       " u'days_to_cancel': 65,\n",
       " u'is_canceled': True,\n",
       " u'is_udacity': True,\n",
       " u'join_date': datetime.datetime(2014, 11, 10, 0, 0),\n",
       " u'status': u'canceled'}"
      ]
     },
     "execution_count": 3,
     "metadata": {},
     "output_type": "execute_result"
    }
   ],
   "source": [
    "from datetime import datetime as dt\n",
    "\n",
    "# Takes a date as a string, and returns a Python datetime object. \n",
    "# If there is no date given, returns None\n",
    "def parse_date(date):\n",
    "    if date == '':\n",
    "        return None\n",
    "    else:\n",
    "        return dt.strptime(date, '%Y-%m-%d')\n",
    "    \n",
    "# Takes a string which is either an empty string or represents an integer,\n",
    "# and returns an int or None.\n",
    "def parse_maybe_int(i):\n",
    "    if i == '':\n",
    "        return None\n",
    "    else:\n",
    "        return int(i)\n",
    "\n",
    "# Clean up the data types in the enrollments table\n",
    "for enrollment in enrollments:\n",
    "    enrollment['cancel_date'] = parse_date(enrollment['cancel_date'])\n",
    "    enrollment['days_to_cancel'] = parse_maybe_int(enrollment['days_to_cancel'])\n",
    "    enrollment['is_canceled'] = enrollment['is_canceled'] == 'True'\n",
    "    enrollment['is_udacity'] = enrollment['is_udacity'] == 'True'\n",
    "    enrollment['join_date'] = parse_date(enrollment['join_date'])\n",
    "    \n",
    "enrollments[0]"
   ]
  },
  {
   "cell_type": "code",
   "execution_count": 4,
   "metadata": {},
   "outputs": [
    {
     "data": {
      "text/plain": [
       "{u'acct': u'0',\n",
       " u'lessons_completed': 0,\n",
       " u'num_courses_visited': 1,\n",
       " u'projects_completed': 0,\n",
       " u'total_minutes_visited': 11.6793745,\n",
       " u'utc_date': datetime.datetime(2015, 1, 9, 0, 0)}"
      ]
     },
     "execution_count": 4,
     "metadata": {},
     "output_type": "execute_result"
    }
   ],
   "source": [
    "# Clean up the data types in the engagement table\n",
    "for engagement_record in daily_engagement:\n",
    "    engagement_record['lessons_completed'] = int(float(engagement_record['lessons_completed']))\n",
    "    engagement_record['num_courses_visited'] = int(float(engagement_record['num_courses_visited']))\n",
    "    engagement_record['projects_completed'] = int(float(engagement_record['projects_completed']))\n",
    "    engagement_record['total_minutes_visited'] = float(engagement_record['total_minutes_visited'])\n",
    "    engagement_record['utc_date'] = parse_date(engagement_record['utc_date'])\n",
    "    \n",
    "daily_engagement[0]"
   ]
  },
  {
   "cell_type": "code",
   "execution_count": 5,
   "metadata": {},
   "outputs": [
    {
     "data": {
      "text/plain": [
       "{u'account_key': u'256',\n",
       " u'assigned_rating': u'UNGRADED',\n",
       " u'completion_date': datetime.datetime(2015, 1, 16, 0, 0),\n",
       " u'creation_date': datetime.datetime(2015, 1, 14, 0, 0),\n",
       " u'lesson_key': u'3176718735',\n",
       " u'processing_state': u'EVALUATED'}"
      ]
     },
     "execution_count": 5,
     "metadata": {},
     "output_type": "execute_result"
    }
   ],
   "source": [
    "# Clean up the data types in the submissions table\n",
    "for submission in project_submissions:\n",
    "    submission['completion_date'] = parse_date(submission['completion_date'])\n",
    "    submission['creation_date'] = parse_date(submission['creation_date'])\n",
    "\n",
    "project_submissions[0]"
   ]
  },
  {
   "cell_type": "markdown",
   "metadata": {},
   "source": [
    "Note when running the above cells that we are actively changing the contents of our data variables. If you try to run these cells multiple times in the same session, an error will occur.\n",
    "\n",
    "## Investigating the Data"
   ]
  },
  {
   "cell_type": "code",
   "execution_count": 6,
   "metadata": {},
   "outputs": [
    {
     "name": "stdout",
     "output_type": "stream",
     "text": [
      "enrollment_num_rows 1640 enrollment_num_unique_students 1302\n",
      "engagement_num_rows 136240 engagement_num_unique_students 1237\n",
      "submission_num_rows 3642 submission_num_unique_students 743\n"
     ]
    }
   ],
   "source": [
    "#####################################\n",
    "#                 2                 #\n",
    "#####################################\n",
    "\n",
    "## Find the total number of rows and the number of unique students (account keys)\n",
    "## in each table.\n",
    "\n",
    "enrollment_num_rows = len(enrollments)          \n",
    "enrollment_num_unique_students = len(list(set({e['account_key'] for e in enrollments})))\n",
    "\n",
    "engagement_num_rows = len(daily_engagement)             # Replace this with your code\n",
    "engagement_num_unique_students = len(list(set({e['acct'] for e in daily_engagement})))\n",
    "\n",
    "submission_num_rows = len(project_submissions)           # Replace this with your code\n",
    "submission_num_unique_students = len(list(set({e['account_key'] for e in project_submissions})))\n",
    "\n",
    "print 'enrollment_num_rows', enrollment_num_rows, 'enrollment_num_unique_students', enrollment_num_unique_students\n",
    "print 'engagement_num_rows', engagement_num_rows, 'engagement_num_unique_students', engagement_num_unique_students\n",
    "print 'submission_num_rows', submission_num_rows, 'submission_num_unique_students', submission_num_unique_students\n"
   ]
  },
  {
   "cell_type": "markdown",
   "metadata": {},
   "source": [
    "## Problems in the Data"
   ]
  },
  {
   "cell_type": "code",
   "execution_count": 7,
   "metadata": {},
   "outputs": [
    {
     "data": {
      "text/plain": [
       "u'0'"
      ]
     },
     "execution_count": 7,
     "metadata": {},
     "output_type": "execute_result"
    }
   ],
   "source": [
    "#####################################\n",
    "#                 3                 #\n",
    "#####################################\n",
    "\n",
    "## Rename the \"acct\" column in the daily_engagement table to \"account_key\".\n",
    "\n",
    "for d in daily_engagement:\n",
    "    d['account_key'] =  d['acct']\n",
    "    del d['acct']\n",
    "\n",
    "daily_engagement[0]['account_key']"
   ]
  },
  {
   "cell_type": "markdown",
   "metadata": {},
   "source": [
    "## Missing Engagement Records"
   ]
  },
  {
   "cell_type": "code",
   "execution_count": 8,
   "metadata": {},
   "outputs": [
    {
     "name": "stdout",
     "output_type": "stream",
     "text": [
      "65\n",
      "1237\n"
     ]
    }
   ],
   "source": [
    "#####################################\n",
    "#                 4                 #\n",
    "#####################################\n",
    "## Find any one student enrollments where the student is missing from the daily engagement table.\n",
    "## Output that enrollment.\n",
    "\n",
    "\n",
    "\n",
    "acctEnroll = set({e['account_key'] for e in enrollments})\n",
    "acctEngage = set({e['account_key'] for e in daily_engagement})\n",
    "\n",
    "studentsOnlyEnrolled = list(acctEnroll - acctEngage)\n",
    "\n",
    "studentsEnrolledAndEngaged = list(acctEnroll - set(studentsOnlyEnrolled))\n",
    "\n",
    "print len(studentsOnlyEnrolled)\n",
    "print len(studentsEnrolledAndEngaged)\n"
   ]
  },
  {
   "cell_type": "code",
   "execution_count": 9,
   "metadata": {},
   "outputs": [],
   "source": [
    "import pandas as pd\n",
    "\n",
    "studentsOnlyEnrolledList = []\n",
    "\n",
    "for e in enrollments:\n",
    "    if e['account_key'] in studentsOnlyEnrolled:\n",
    "        studentsOnlyEnrolledList.append(e)\n",
    "        \n",
    "df = pd.DataFrame(studentsOnlyEnrolledList)        \n",
    "# df"
   ]
  },
  {
   "cell_type": "code",
   "execution_count": 10,
   "metadata": {},
   "outputs": [],
   "source": [
    "studentsEnrolledAndEngagedList = []\n",
    "\n",
    "for e in enrollments:\n",
    "    if e['account_key'] in studentsEnrolledAndEngaged:\n",
    "        studentsEnrolledAndEngagedList.append(e)\n",
    "        \n",
    "df = pd.DataFrame(studentsEnrolledAndEngagedList)        \n",
    "# df"
   ]
  },
  {
   "cell_type": "markdown",
   "metadata": {},
   "source": [
    "## Checking for More Problem Records"
   ]
  },
  {
   "cell_type": "code",
   "execution_count": 11,
   "metadata": {
    "collapsed": true
   },
   "outputs": [],
   "source": [
    "#####################################\n",
    "#                 5                 #\n",
    "#####################################\n",
    "\n",
    "## Find the number of surprising data points (enrollments missing from\n",
    "## the engagement table) that remain, if any."
   ]
  },
  {
   "cell_type": "markdown",
   "metadata": {},
   "source": [
    "## Tracking Down the Remaining Problems"
   ]
  },
  {
   "cell_type": "code",
   "execution_count": 12,
   "metadata": {},
   "outputs": [
    {
     "data": {
      "text/plain": [
       "6"
      ]
     },
     "execution_count": 12,
     "metadata": {},
     "output_type": "execute_result"
    }
   ],
   "source": [
    "# Create a set of the account keys for all Udacity test accounts\n",
    "udacity_test_accounts = set()\n",
    "for enrollment in enrollments:\n",
    "    if enrollment['is_udacity']:\n",
    "        udacity_test_accounts.add(enrollment['account_key'])\n",
    "len(udacity_test_accounts)"
   ]
  },
  {
   "cell_type": "code",
   "execution_count": 13,
   "metadata": {
    "collapsed": true
   },
   "outputs": [],
   "source": [
    "# Given some data with an account_key field, removes any records corresponding to Udacity test accounts\n",
    "def remove_udacity_accounts(data):\n",
    "    non_udacity_data = []\n",
    "    for data_point in data:\n",
    "        if data_point['account_key'] not in udacity_test_accounts:\n",
    "            non_udacity_data.append(data_point)\n",
    "    return non_udacity_data"
   ]
  },
  {
   "cell_type": "code",
   "execution_count": 60,
   "metadata": {},
   "outputs": [
    {
     "name": "stdout",
     "output_type": "stream",
     "text": [
      "1622\n",
      "135656\n",
      "3634\n"
     ]
    },
    {
     "data": {
      "text/plain": [
       "[{'account_key': u'108',\n",
       "  u'lessons_completed': 0,\n",
       "  u'num_courses_visited': 1,\n",
       "  u'projects_completed': 0,\n",
       "  u'total_minutes_visited': 50.9938951667,\n",
       "  u'utc_date': datetime.datetime(2015, 1, 7, 0, 0)},\n",
       " {'account_key': u'108',\n",
       "  u'lessons_completed': 5,\n",
       "  u'num_courses_visited': 2,\n",
       "  u'projects_completed': 0,\n",
       "  u'total_minutes_visited': 688.3034385,\n",
       "  u'utc_date': datetime.datetime(2015, 1, 8, 0, 0)},\n",
       " {'account_key': u'108',\n",
       "  u'lessons_completed': 1,\n",
       "  u'num_courses_visited': 2,\n",
       "  u'projects_completed': 0,\n",
       "  u'total_minutes_visited': 427.691757667,\n",
       "  u'utc_date': datetime.datetime(2015, 1, 9, 0, 0)},\n",
       " {'account_key': u'108',\n",
       "  u'lessons_completed': 0,\n",
       "  u'num_courses_visited': 3,\n",
       "  u'projects_completed': 0,\n",
       "  u'total_minutes_visited': 165.6270925,\n",
       "  u'utc_date': datetime.datetime(2015, 1, 10, 0, 0)},\n",
       " {'account_key': u'108',\n",
       "  u'lessons_completed': 0,\n",
       "  u'num_courses_visited': 0,\n",
       "  u'projects_completed': 0,\n",
       "  u'total_minutes_visited': 0.0,\n",
       "  u'utc_date': datetime.datetime(2015, 1, 11, 0, 0)},\n",
       " {'account_key': u'108',\n",
       "  u'lessons_completed': 0,\n",
       "  u'num_courses_visited': 2,\n",
       "  u'projects_completed': 0,\n",
       "  u'total_minutes_visited': 199.746703834,\n",
       "  u'utc_date': datetime.datetime(2015, 1, 12, 0, 0)},\n",
       " {'account_key': u'108',\n",
       "  u'lessons_completed': 0,\n",
       "  u'num_courses_visited': 1,\n",
       "  u'projects_completed': 0,\n",
       "  u'total_minutes_visited': 522.626804333,\n",
       "  u'utc_date': datetime.datetime(2015, 1, 13, 0, 0)},\n",
       " {'account_key': u'108',\n",
       "  u'lessons_completed': 0,\n",
       "  u'num_courses_visited': 1,\n",
       "  u'projects_completed': 0,\n",
       "  u'total_minutes_visited': 19.3757686667,\n",
       "  u'utc_date': datetime.datetime(2015, 1, 14, 0, 0)},\n",
       " {'account_key': u'108',\n",
       "  u'lessons_completed': 1,\n",
       "  u'num_courses_visited': 1,\n",
       "  u'projects_completed': 0,\n",
       "  u'total_minutes_visited': 159.846594,\n",
       "  u'utc_date': datetime.datetime(2015, 1, 15, 0, 0)},\n",
       " {'account_key': u'108',\n",
       "  u'lessons_completed': 0,\n",
       "  u'num_courses_visited': 2,\n",
       "  u'projects_completed': 0,\n",
       "  u'total_minutes_visited': 188.953028166,\n",
       "  u'utc_date': datetime.datetime(2015, 1, 16, 0, 0)},\n",
       " {'account_key': u'108',\n",
       "  u'lessons_completed': 1,\n",
       "  u'num_courses_visited': 3,\n",
       "  u'projects_completed': 0,\n",
       "  u'total_minutes_visited': 150.338208833,\n",
       "  u'utc_date': datetime.datetime(2015, 1, 17, 0, 0)},\n",
       " {'account_key': u'108',\n",
       "  u'lessons_completed': 0,\n",
       "  u'num_courses_visited': 2,\n",
       "  u'projects_completed': 0,\n",
       "  u'total_minutes_visited': 46.2042118333,\n",
       "  u'utc_date': datetime.datetime(2015, 1, 18, 0, 0)},\n",
       " {'account_key': u'108',\n",
       "  u'lessons_completed': 0,\n",
       "  u'num_courses_visited': 0,\n",
       "  u'projects_completed': 0,\n",
       "  u'total_minutes_visited': 0.0,\n",
       "  u'utc_date': datetime.datetime(2015, 1, 19, 0, 0)},\n",
       " {'account_key': u'108',\n",
       "  u'lessons_completed': 0,\n",
       "  u'num_courses_visited': 0,\n",
       "  u'projects_completed': 0,\n",
       "  u'total_minutes_visited': 0.0,\n",
       "  u'utc_date': datetime.datetime(2015, 1, 20, 0, 0)},\n",
       " {'account_key': u'108',\n",
       "  u'lessons_completed': 0,\n",
       "  u'num_courses_visited': 0,\n",
       "  u'projects_completed': 0,\n",
       "  u'total_minutes_visited': 0.0,\n",
       "  u'utc_date': datetime.datetime(2015, 1, 21, 0, 0)},\n",
       " {'account_key': u'108',\n",
       "  u'lessons_completed': 0,\n",
       "  u'num_courses_visited': 2,\n",
       "  u'projects_completed': 0,\n",
       "  u'total_minutes_visited': 31.7297723333,\n",
       "  u'utc_date': datetime.datetime(2015, 1, 22, 0, 0)},\n",
       " {'account_key': u'108',\n",
       "  u'lessons_completed': 0,\n",
       "  u'num_courses_visited': 1,\n",
       "  u'projects_completed': 0,\n",
       "  u'total_minutes_visited': 206.586538333,\n",
       "  u'utc_date': datetime.datetime(2015, 1, 23, 0, 0)},\n",
       " {'account_key': u'108',\n",
       "  u'lessons_completed': 0,\n",
       "  u'num_courses_visited': 0,\n",
       "  u'projects_completed': 0,\n",
       "  u'total_minutes_visited': 0.0,\n",
       "  u'utc_date': datetime.datetime(2015, 1, 24, 0, 0)},\n",
       " {'account_key': u'108',\n",
       "  u'lessons_completed': 0,\n",
       "  u'num_courses_visited': 0,\n",
       "  u'projects_completed': 0,\n",
       "  u'total_minutes_visited': 0.0,\n",
       "  u'utc_date': datetime.datetime(2015, 1, 25, 0, 0)},\n",
       " {'account_key': u'108',\n",
       "  u'lessons_completed': 0,\n",
       "  u'num_courses_visited': 1,\n",
       "  u'projects_completed': 0,\n",
       "  u'total_minutes_visited': 129.350111833,\n",
       "  u'utc_date': datetime.datetime(2015, 1, 26, 0, 0)},\n",
       " {'account_key': u'108',\n",
       "  u'lessons_completed': 0,\n",
       "  u'num_courses_visited': 1,\n",
       "  u'projects_completed': 0,\n",
       "  u'total_minutes_visited': 73.5691376667,\n",
       "  u'utc_date': datetime.datetime(2015, 1, 27, 0, 0)},\n",
       " {'account_key': u'108',\n",
       "  u'lessons_completed': 0,\n",
       "  u'num_courses_visited': 0,\n",
       "  u'projects_completed': 0,\n",
       "  u'total_minutes_visited': 0.0,\n",
       "  u'utc_date': datetime.datetime(2015, 1, 28, 0, 0)},\n",
       " {'account_key': u'108',\n",
       "  u'lessons_completed': 0,\n",
       "  u'num_courses_visited': 1,\n",
       "  u'projects_completed': 0,\n",
       "  u'total_minutes_visited': 271.0895865,\n",
       "  u'utc_date': datetime.datetime(2015, 1, 29, 0, 0)},\n",
       " {'account_key': u'108',\n",
       "  u'lessons_completed': 1,\n",
       "  u'num_courses_visited': 1,\n",
       "  u'projects_completed': 0,\n",
       "  u'total_minutes_visited': 432.252650333,\n",
       "  u'utc_date': datetime.datetime(2015, 1, 30, 0, 0)},\n",
       " {'account_key': u'108',\n",
       "  u'lessons_completed': 0,\n",
       "  u'num_courses_visited': 1,\n",
       "  u'projects_completed': 0,\n",
       "  u'total_minutes_visited': 196.13898,\n",
       "  u'utc_date': datetime.datetime(2015, 1, 31, 0, 0)},\n",
       " {'account_key': u'108',\n",
       "  u'lessons_completed': 0,\n",
       "  u'num_courses_visited': 1,\n",
       "  u'projects_completed': 0,\n",
       "  u'total_minutes_visited': 68.9915653333,\n",
       "  u'utc_date': datetime.datetime(2015, 2, 1, 0, 0)},\n",
       " {'account_key': u'108',\n",
       "  u'lessons_completed': 0,\n",
       "  u'num_courses_visited': 2,\n",
       "  u'projects_completed': 0,\n",
       "  u'total_minutes_visited': 86.3277713333,\n",
       "  u'utc_date': datetime.datetime(2015, 2, 2, 0, 0)},\n",
       " {'account_key': u'108',\n",
       "  u'lessons_completed': 0,\n",
       "  u'num_courses_visited': 0,\n",
       "  u'projects_completed': 0,\n",
       "  u'total_minutes_visited': 0.0,\n",
       "  u'utc_date': datetime.datetime(2015, 2, 3, 0, 0)},\n",
       " {'account_key': u'108',\n",
       "  u'lessons_completed': 0,\n",
       "  u'num_courses_visited': 0,\n",
       "  u'projects_completed': 0,\n",
       "  u'total_minutes_visited': 0.0,\n",
       "  u'utc_date': datetime.datetime(2015, 2, 4, 0, 0)},\n",
       " {'account_key': u'108',\n",
       "  u'lessons_completed': 0,\n",
       "  u'num_courses_visited': 1,\n",
       "  u'projects_completed': 0,\n",
       "  u'total_minutes_visited': 153.230525,\n",
       "  u'utc_date': datetime.datetime(2015, 2, 5, 0, 0)},\n",
       " {'account_key': u'108',\n",
       "  u'lessons_completed': 0,\n",
       "  u'num_courses_visited': 0,\n",
       "  u'projects_completed': 0,\n",
       "  u'total_minutes_visited': 0.0,\n",
       "  u'utc_date': datetime.datetime(2015, 2, 6, 0, 0)},\n",
       " {'account_key': u'108',\n",
       "  u'lessons_completed': 0,\n",
       "  u'num_courses_visited': 0,\n",
       "  u'projects_completed': 0,\n",
       "  u'total_minutes_visited': 0.0,\n",
       "  u'utc_date': datetime.datetime(2015, 2, 7, 0, 0)},\n",
       " {'account_key': u'108',\n",
       "  u'lessons_completed': 0,\n",
       "  u'num_courses_visited': 0,\n",
       "  u'projects_completed': 0,\n",
       "  u'total_minutes_visited': 0.0,\n",
       "  u'utc_date': datetime.datetime(2015, 2, 8, 0, 0)},\n",
       " {'account_key': u'108',\n",
       "  u'lessons_completed': 0,\n",
       "  u'num_courses_visited': 1,\n",
       "  u'projects_completed': 0,\n",
       "  u'total_minutes_visited': 16.687455,\n",
       "  u'utc_date': datetime.datetime(2015, 2, 9, 0, 0)},\n",
       " {'account_key': u'108',\n",
       "  u'lessons_completed': 0,\n",
       "  u'num_courses_visited': 1,\n",
       "  u'projects_completed': 0,\n",
       "  u'total_minutes_visited': 133.047518833,\n",
       "  u'utc_date': datetime.datetime(2015, 2, 10, 0, 0)},\n",
       " {'account_key': u'108',\n",
       "  u'lessons_completed': 0,\n",
       "  u'num_courses_visited': 2,\n",
       "  u'projects_completed': 0,\n",
       "  u'total_minutes_visited': 60.2176756667,\n",
       "  u'utc_date': datetime.datetime(2015, 2, 11, 0, 0)},\n",
       " {'account_key': u'108',\n",
       "  u'lessons_completed': 0,\n",
       "  u'num_courses_visited': 3,\n",
       "  u'projects_completed': 0,\n",
       "  u'total_minutes_visited': 160.438302667,\n",
       "  u'utc_date': datetime.datetime(2015, 2, 12, 0, 0)},\n",
       " {'account_key': u'108',\n",
       "  u'lessons_completed': 4,\n",
       "  u'num_courses_visited': 2,\n",
       "  u'projects_completed': 0,\n",
       "  u'total_minutes_visited': 506.220547,\n",
       "  u'utc_date': datetime.datetime(2015, 2, 13, 0, 0)},\n",
       " {'account_key': u'108',\n",
       "  u'lessons_completed': 0,\n",
       "  u'num_courses_visited': 1,\n",
       "  u'projects_completed': 0,\n",
       "  u'total_minutes_visited': 105.095858167,\n",
       "  u'utc_date': datetime.datetime(2015, 2, 14, 0, 0)},\n",
       " {'account_key': u'108',\n",
       "  u'lessons_completed': 0,\n",
       "  u'num_courses_visited': 0,\n",
       "  u'projects_completed': 0,\n",
       "  u'total_minutes_visited': 0.0,\n",
       "  u'utc_date': datetime.datetime(2015, 2, 15, 0, 0)},\n",
       " {'account_key': u'108',\n",
       "  u'lessons_completed': 0,\n",
       "  u'num_courses_visited': 0,\n",
       "  u'projects_completed': 0,\n",
       "  u'total_minutes_visited': 0.0,\n",
       "  u'utc_date': datetime.datetime(2015, 2, 16, 0, 0)},\n",
       " {'account_key': u'108',\n",
       "  u'lessons_completed': 0,\n",
       "  u'num_courses_visited': 1,\n",
       "  u'projects_completed': 0,\n",
       "  u'total_minutes_visited': 2.851689,\n",
       "  u'utc_date': datetime.datetime(2015, 2, 17, 0, 0)},\n",
       " {'account_key': u'108',\n",
       "  u'lessons_completed': 1,\n",
       "  u'num_courses_visited': 1,\n",
       "  u'projects_completed': 0,\n",
       "  u'total_minutes_visited': 10.9540768333,\n",
       "  u'utc_date': datetime.datetime(2015, 2, 18, 0, 0)},\n",
       " {'account_key': u'108',\n",
       "  u'lessons_completed': 3,\n",
       "  u'num_courses_visited': 1,\n",
       "  u'projects_completed': 0,\n",
       "  u'total_minutes_visited': 474.2906025,\n",
       "  u'utc_date': datetime.datetime(2015, 2, 19, 0, 0)},\n",
       " {'account_key': u'108',\n",
       "  u'lessons_completed': 5,\n",
       "  u'num_courses_visited': 2,\n",
       "  u'projects_completed': 0,\n",
       "  u'total_minutes_visited': 820.879483167,\n",
       "  u'utc_date': datetime.datetime(2015, 2, 20, 0, 0)},\n",
       " {'account_key': u'108',\n",
       "  u'lessons_completed': 2,\n",
       "  u'num_courses_visited': 2,\n",
       "  u'projects_completed': 0,\n",
       "  u'total_minutes_visited': 189.447189334,\n",
       "  u'utc_date': datetime.datetime(2015, 2, 21, 0, 0)},\n",
       " {'account_key': u'108',\n",
       "  u'lessons_completed': 1,\n",
       "  u'num_courses_visited': 2,\n",
       "  u'projects_completed': 0,\n",
       "  u'total_minutes_visited': 97.7356985,\n",
       "  u'utc_date': datetime.datetime(2015, 2, 22, 0, 0)},\n",
       " {'account_key': u'108',\n",
       "  u'lessons_completed': 0,\n",
       "  u'num_courses_visited': 1,\n",
       "  u'projects_completed': 0,\n",
       "  u'total_minutes_visited': 16.399642,\n",
       "  u'utc_date': datetime.datetime(2015, 2, 23, 0, 0)},\n",
       " {'account_key': u'108',\n",
       "  u'lessons_completed': 0,\n",
       "  u'num_courses_visited': 0,\n",
       "  u'projects_completed': 0,\n",
       "  u'total_minutes_visited': 0.0,\n",
       "  u'utc_date': datetime.datetime(2015, 2, 24, 0, 0)},\n",
       " {'account_key': u'108',\n",
       "  u'lessons_completed': 0,\n",
       "  u'num_courses_visited': 0,\n",
       "  u'projects_completed': 0,\n",
       "  u'total_minutes_visited': 0.0,\n",
       "  u'utc_date': datetime.datetime(2015, 2, 25, 0, 0)},\n",
       " {'account_key': u'108',\n",
       "  u'lessons_completed': 0,\n",
       "  u'num_courses_visited': 0,\n",
       "  u'projects_completed': 0,\n",
       "  u'total_minutes_visited': 0.0,\n",
       "  u'utc_date': datetime.datetime(2015, 2, 26, 0, 0)},\n",
       " {'account_key': u'108',\n",
       "  u'lessons_completed': 0,\n",
       "  u'num_courses_visited': 0,\n",
       "  u'projects_completed': 0,\n",
       "  u'total_minutes_visited': 0.0,\n",
       "  u'utc_date': datetime.datetime(2015, 2, 27, 0, 0)},\n",
       " {'account_key': u'108',\n",
       "  u'lessons_completed': 0,\n",
       "  u'num_courses_visited': 0,\n",
       "  u'projects_completed': 0,\n",
       "  u'total_minutes_visited': 0.0,\n",
       "  u'utc_date': datetime.datetime(2015, 2, 28, 0, 0)},\n",
       " {'account_key': u'108',\n",
       "  u'lessons_completed': 0,\n",
       "  u'num_courses_visited': 0,\n",
       "  u'projects_completed': 0,\n",
       "  u'total_minutes_visited': 0.0,\n",
       "  u'utc_date': datetime.datetime(2015, 3, 1, 0, 0)},\n",
       " {'account_key': u'108',\n",
       "  u'lessons_completed': 0,\n",
       "  u'num_courses_visited': 0,\n",
       "  u'projects_completed': 0,\n",
       "  u'total_minutes_visited': 0.0,\n",
       "  u'utc_date': datetime.datetime(2015, 3, 2, 0, 0)},\n",
       " {'account_key': u'108',\n",
       "  u'lessons_completed': 0,\n",
       "  u'num_courses_visited': 0,\n",
       "  u'projects_completed': 0,\n",
       "  u'total_minutes_visited': 0.0,\n",
       "  u'utc_date': datetime.datetime(2015, 3, 3, 0, 0)},\n",
       " {'account_key': u'108',\n",
       "  u'lessons_completed': 0,\n",
       "  u'num_courses_visited': 1,\n",
       "  u'projects_completed': 0,\n",
       "  u'total_minutes_visited': 2.0494365,\n",
       "  u'utc_date': datetime.datetime(2015, 3, 4, 0, 0)},\n",
       " {'account_key': u'108',\n",
       "  u'lessons_completed': 0,\n",
       "  u'num_courses_visited': 0,\n",
       "  u'projects_completed': 0,\n",
       "  u'total_minutes_visited': 0.0,\n",
       "  u'utc_date': datetime.datetime(2015, 3, 5, 0, 0)},\n",
       " {'account_key': u'108',\n",
       "  u'lessons_completed': 2,\n",
       "  u'num_courses_visited': 2,\n",
       "  u'projects_completed': 0,\n",
       "  u'total_minutes_visited': 431.799976167,\n",
       "  u'utc_date': datetime.datetime(2015, 3, 6, 0, 0)},\n",
       " {'account_key': u'108',\n",
       "  u'lessons_completed': 1,\n",
       "  u'num_courses_visited': 1,\n",
       "  u'projects_completed': 0,\n",
       "  u'total_minutes_visited': 119.514411833,\n",
       "  u'utc_date': datetime.datetime(2015, 3, 7, 0, 0)},\n",
       " {'account_key': u'108',\n",
       "  u'lessons_completed': 1,\n",
       "  u'num_courses_visited': 1,\n",
       "  u'projects_completed': 0,\n",
       "  u'total_minutes_visited': 164.2608825,\n",
       "  u'utc_date': datetime.datetime(2015, 3, 8, 0, 0)},\n",
       " {'account_key': u'108',\n",
       "  u'lessons_completed': 0,\n",
       "  u'num_courses_visited': 2,\n",
       "  u'projects_completed': 0,\n",
       "  u'total_minutes_visited': 179.749760666,\n",
       "  u'utc_date': datetime.datetime(2015, 3, 9, 0, 0)},\n",
       " {'account_key': u'108',\n",
       "  u'lessons_completed': 0,\n",
       "  u'num_courses_visited': 0,\n",
       "  u'projects_completed': 0,\n",
       "  u'total_minutes_visited': 0.0,\n",
       "  u'utc_date': datetime.datetime(2015, 3, 10, 0, 0)},\n",
       " {'account_key': u'108',\n",
       "  u'lessons_completed': 0,\n",
       "  u'num_courses_visited': 0,\n",
       "  u'projects_completed': 0,\n",
       "  u'total_minutes_visited': 0.0,\n",
       "  u'utc_date': datetime.datetime(2015, 3, 11, 0, 0)},\n",
       " {'account_key': u'108',\n",
       "  u'lessons_completed': 0,\n",
       "  u'num_courses_visited': 1,\n",
       "  u'projects_completed': 0,\n",
       "  u'total_minutes_visited': 10.787165,\n",
       "  u'utc_date': datetime.datetime(2015, 3, 12, 0, 0)},\n",
       " {'account_key': u'108',\n",
       "  u'lessons_completed': 0,\n",
       "  u'num_courses_visited': 1,\n",
       "  u'projects_completed': 0,\n",
       "  u'total_minutes_visited': 53.0065191667,\n",
       "  u'utc_date': datetime.datetime(2015, 3, 13, 0, 0)},\n",
       " {'account_key': u'108',\n",
       "  u'lessons_completed': 1,\n",
       "  u'num_courses_visited': 1,\n",
       "  u'projects_completed': 0,\n",
       "  u'total_minutes_visited': 203.048973667,\n",
       "  u'utc_date': datetime.datetime(2015, 3, 14, 0, 0)},\n",
       " {'account_key': u'108',\n",
       "  u'lessons_completed': 0,\n",
       "  u'num_courses_visited': 1,\n",
       "  u'projects_completed': 0,\n",
       "  u'total_minutes_visited': 51.2993831667,\n",
       "  u'utc_date': datetime.datetime(2015, 3, 15, 0, 0)},\n",
       " {'account_key': u'108',\n",
       "  u'lessons_completed': 0,\n",
       "  u'num_courses_visited': 0,\n",
       "  u'projects_completed': 0,\n",
       "  u'total_minutes_visited': 0.0,\n",
       "  u'utc_date': datetime.datetime(2015, 3, 16, 0, 0)},\n",
       " {'account_key': u'108',\n",
       "  u'lessons_completed': 0,\n",
       "  u'num_courses_visited': 1,\n",
       "  u'projects_completed': 0,\n",
       "  u'total_minutes_visited': 148.2304025,\n",
       "  u'utc_date': datetime.datetime(2015, 3, 17, 0, 0)},\n",
       " {'account_key': u'108',\n",
       "  u'lessons_completed': 0,\n",
       "  u'num_courses_visited': 1,\n",
       "  u'projects_completed': 0,\n",
       "  u'total_minutes_visited': 27.5826056667,\n",
       "  u'utc_date': datetime.datetime(2015, 3, 18, 0, 0)},\n",
       " {'account_key': u'108',\n",
       "  u'lessons_completed': 0,\n",
       "  u'num_courses_visited': 0,\n",
       "  u'projects_completed': 0,\n",
       "  u'total_minutes_visited': 0.0,\n",
       "  u'utc_date': datetime.datetime(2015, 3, 19, 0, 0)},\n",
       " {'account_key': u'108',\n",
       "  u'lessons_completed': 0,\n",
       "  u'num_courses_visited': 0,\n",
       "  u'projects_completed': 0,\n",
       "  u'total_minutes_visited': 0.0,\n",
       "  u'utc_date': datetime.datetime(2015, 3, 20, 0, 0)},\n",
       " {'account_key': u'108',\n",
       "  u'lessons_completed': 0,\n",
       "  u'num_courses_visited': 1,\n",
       "  u'projects_completed': 0,\n",
       "  u'total_minutes_visited': 14.4492643333,\n",
       "  u'utc_date': datetime.datetime(2015, 3, 21, 0, 0)},\n",
       " {'account_key': u'108',\n",
       "  u'lessons_completed': 1,\n",
       "  u'num_courses_visited': 1,\n",
       "  u'projects_completed': 0,\n",
       "  u'total_minutes_visited': 159.175812667,\n",
       "  u'utc_date': datetime.datetime(2015, 3, 22, 0, 0)},\n",
       " {'account_key': u'108',\n",
       "  u'lessons_completed': 0,\n",
       "  u'num_courses_visited': 1,\n",
       "  u'projects_completed': 0,\n",
       "  u'total_minutes_visited': 23.0641448333,\n",
       "  u'utc_date': datetime.datetime(2015, 3, 23, 0, 0)},\n",
       " {'account_key': u'108',\n",
       "  u'lessons_completed': 3,\n",
       "  u'num_courses_visited': 2,\n",
       "  u'projects_completed': 1,\n",
       "  u'total_minutes_visited': 327.687187333,\n",
       "  u'utc_date': datetime.datetime(2015, 3, 24, 0, 0)},\n",
       " {'account_key': u'108',\n",
       "  u'lessons_completed': 5,\n",
       "  u'num_courses_visited': 1,\n",
       "  u'projects_completed': 0,\n",
       "  u'total_minutes_visited': 210.324669,\n",
       "  u'utc_date': datetime.datetime(2015, 3, 25, 0, 0)},\n",
       " {'account_key': u'108',\n",
       "  u'lessons_completed': 0,\n",
       "  u'num_courses_visited': 2,\n",
       "  u'projects_completed': 0,\n",
       "  u'total_minutes_visited': 114.421496,\n",
       "  u'utc_date': datetime.datetime(2015, 3, 26, 0, 0)},\n",
       " {'account_key': u'108',\n",
       "  u'lessons_completed': 0,\n",
       "  u'num_courses_visited': 1,\n",
       "  u'projects_completed': 0,\n",
       "  u'total_minutes_visited': 85.2018686667,\n",
       "  u'utc_date': datetime.datetime(2015, 3, 27, 0, 0)},\n",
       " {'account_key': u'108',\n",
       "  u'lessons_completed': 0,\n",
       "  u'num_courses_visited': 1,\n",
       "  u'projects_completed': 0,\n",
       "  u'total_minutes_visited': 9.53501516667,\n",
       "  u'utc_date': datetime.datetime(2015, 3, 28, 0, 0)},\n",
       " {'account_key': u'108',\n",
       "  u'lessons_completed': 0,\n",
       "  u'num_courses_visited': 0,\n",
       "  u'projects_completed': 0,\n",
       "  u'total_minutes_visited': 0.0,\n",
       "  u'utc_date': datetime.datetime(2015, 3, 29, 0, 0)},\n",
       " {'account_key': u'108',\n",
       "  u'lessons_completed': 0,\n",
       "  u'num_courses_visited': 0,\n",
       "  u'projects_completed': 0,\n",
       "  u'total_minutes_visited': 0.0,\n",
       "  u'utc_date': datetime.datetime(2015, 3, 30, 0, 0)},\n",
       " {'account_key': u'108',\n",
       "  u'lessons_completed': 0,\n",
       "  u'num_courses_visited': 0,\n",
       "  u'projects_completed': 0,\n",
       "  u'total_minutes_visited': 0.0,\n",
       "  u'utc_date': datetime.datetime(2015, 3, 31, 0, 0)},\n",
       " {'account_key': u'108',\n",
       "  u'lessons_completed': 0,\n",
       "  u'num_courses_visited': 3,\n",
       "  u'projects_completed': 0,\n",
       "  u'total_minutes_visited': 147.569145833,\n",
       "  u'utc_date': datetime.datetime(2015, 4, 1, 0, 0)},\n",
       " {'account_key': u'108',\n",
       "  u'lessons_completed': 0,\n",
       "  u'num_courses_visited': 3,\n",
       "  u'projects_completed': 0,\n",
       "  u'total_minutes_visited': 77.2467501667,\n",
       "  u'utc_date': datetime.datetime(2015, 4, 2, 0, 0)},\n",
       " {'account_key': u'108',\n",
       "  u'lessons_completed': 0,\n",
       "  u'num_courses_visited': 3,\n",
       "  u'projects_completed': 0,\n",
       "  u'total_minutes_visited': 84.8263243333,\n",
       "  u'utc_date': datetime.datetime(2015, 4, 3, 0, 0)},\n",
       " {'account_key': u'108',\n",
       "  u'lessons_completed': 0,\n",
       "  u'num_courses_visited': 0,\n",
       "  u'projects_completed': 0,\n",
       "  u'total_minutes_visited': 0.0,\n",
       "  u'utc_date': datetime.datetime(2015, 4, 4, 0, 0)},\n",
       " {'account_key': u'108',\n",
       "  u'lessons_completed': 0,\n",
       "  u'num_courses_visited': 0,\n",
       "  u'projects_completed': 0,\n",
       "  u'total_minutes_visited': 0.0,\n",
       "  u'utc_date': datetime.datetime(2015, 4, 5, 0, 0)},\n",
       " {'account_key': u'108',\n",
       "  u'lessons_completed': 0,\n",
       "  u'num_courses_visited': 2,\n",
       "  u'projects_completed': 0,\n",
       "  u'total_minutes_visited': 32.9969003333,\n",
       "  u'utc_date': datetime.datetime(2015, 4, 6, 0, 0)},\n",
       " {'account_key': u'108',\n",
       "  u'lessons_completed': 0,\n",
       "  u'num_courses_visited': 1,\n",
       "  u'projects_completed': 0,\n",
       "  u'total_minutes_visited': 173.764699333,\n",
       "  u'utc_date': datetime.datetime(2015, 4, 7, 0, 0)},\n",
       " {'account_key': u'108',\n",
       "  u'lessons_completed': 0,\n",
       "  u'num_courses_visited': 0,\n",
       "  u'projects_completed': 0,\n",
       "  u'total_minutes_visited': 0.0,\n",
       "  u'utc_date': datetime.datetime(2015, 4, 8, 0, 0)},\n",
       " {'account_key': u'108',\n",
       "  u'lessons_completed': 0,\n",
       "  u'num_courses_visited': 1,\n",
       "  u'projects_completed': 0,\n",
       "  u'total_minutes_visited': 85.6887951667,\n",
       "  u'utc_date': datetime.datetime(2015, 4, 9, 0, 0)},\n",
       " {'account_key': u'108',\n",
       "  u'lessons_completed': 0,\n",
       "  u'num_courses_visited': 2,\n",
       "  u'projects_completed': 0,\n",
       "  u'total_minutes_visited': 72.4837255,\n",
       "  u'utc_date': datetime.datetime(2015, 4, 10, 0, 0)},\n",
       " {'account_key': u'108',\n",
       "  u'lessons_completed': 0,\n",
       "  u'num_courses_visited': 0,\n",
       "  u'projects_completed': 0,\n",
       "  u'total_minutes_visited': 0.0,\n",
       "  u'utc_date': datetime.datetime(2015, 4, 11, 0, 0)},\n",
       " {'account_key': u'108',\n",
       "  u'lessons_completed': 0,\n",
       "  u'num_courses_visited': 0,\n",
       "  u'projects_completed': 0,\n",
       "  u'total_minutes_visited': 0.0,\n",
       "  u'utc_date': datetime.datetime(2015, 4, 12, 0, 0)},\n",
       " {'account_key': u'108',\n",
       "  u'lessons_completed': 0,\n",
       "  u'num_courses_visited': 0,\n",
       "  u'projects_completed': 0,\n",
       "  u'total_minutes_visited': 0.0,\n",
       "  u'utc_date': datetime.datetime(2015, 4, 13, 0, 0)},\n",
       " {'account_key': u'108',\n",
       "  u'lessons_completed': 0,\n",
       "  u'num_courses_visited': 1,\n",
       "  u'projects_completed': 0,\n",
       "  u'total_minutes_visited': 36.9211676667,\n",
       "  u'utc_date': datetime.datetime(2015, 4, 14, 0, 0)},\n",
       " {'account_key': u'108',\n",
       "  u'lessons_completed': 1,\n",
       "  u'num_courses_visited': 2,\n",
       "  u'projects_completed': 0,\n",
       "  u'total_minutes_visited': 179.353473333,\n",
       "  u'utc_date': datetime.datetime(2015, 4, 15, 0, 0)},\n",
       " {'account_key': u'108',\n",
       "  u'lessons_completed': 0,\n",
       "  u'num_courses_visited': 2,\n",
       "  u'projects_completed': 0,\n",
       "  u'total_minutes_visited': 274.209734167,\n",
       "  u'utc_date': datetime.datetime(2015, 4, 16, 0, 0)},\n",
       " {'account_key': u'108',\n",
       "  u'lessons_completed': 0,\n",
       "  u'num_courses_visited': 1,\n",
       "  u'projects_completed': 0,\n",
       "  u'total_minutes_visited': 40.340405,\n",
       "  u'utc_date': datetime.datetime(2015, 4, 17, 0, 0)},\n",
       " {'account_key': u'108',\n",
       "  u'lessons_completed': 0,\n",
       "  u'num_courses_visited': 0,\n",
       "  u'projects_completed': 0,\n",
       "  u'total_minutes_visited': 0.0,\n",
       "  u'utc_date': datetime.datetime(2015, 4, 18, 0, 0)},\n",
       " {'account_key': u'108',\n",
       "  u'lessons_completed': 0,\n",
       "  u'num_courses_visited': 0,\n",
       "  u'projects_completed': 0,\n",
       "  u'total_minutes_visited': 0.0,\n",
       "  u'utc_date': datetime.datetime(2015, 4, 19, 0, 0)},\n",
       " {'account_key': u'108',\n",
       "  u'lessons_completed': 0,\n",
       "  u'num_courses_visited': 2,\n",
       "  u'projects_completed': 0,\n",
       "  u'total_minutes_visited': 25.9137858334,\n",
       "  u'utc_date': datetime.datetime(2015, 4, 20, 0, 0)},\n",
       " {'account_key': u'108',\n",
       "  u'lessons_completed': 0,\n",
       "  u'num_courses_visited': 1,\n",
       "  u'projects_completed': 0,\n",
       "  u'total_minutes_visited': 3.40682316667,\n",
       "  u'utc_date': datetime.datetime(2015, 4, 21, 0, 0)},\n",
       " {'account_key': u'108',\n",
       "  u'lessons_completed': 0,\n",
       "  u'num_courses_visited': 2,\n",
       "  u'projects_completed': 0,\n",
       "  u'total_minutes_visited': 99.1186611667,\n",
       "  u'utc_date': datetime.datetime(2015, 4, 22, 0, 0)},\n",
       " {'account_key': u'108',\n",
       "  u'lessons_completed': 0,\n",
       "  u'num_courses_visited': 1,\n",
       "  u'projects_completed': 2,\n",
       "  u'total_minutes_visited': 35.8316206667,\n",
       "  u'utc_date': datetime.datetime(2015, 4, 23, 0, 0)},\n",
       " {'account_key': u'108',\n",
       "  u'lessons_completed': 0,\n",
       "  u'num_courses_visited': 0,\n",
       "  u'projects_completed': 0,\n",
       "  u'total_minutes_visited': 0.0,\n",
       "  u'utc_date': datetime.datetime(2015, 4, 24, 0, 0)},\n",
       " {'account_key': u'108',\n",
       "  u'lessons_completed': 0,\n",
       "  u'num_courses_visited': 0,\n",
       "  u'projects_completed': 0,\n",
       "  u'total_minutes_visited': 0.0,\n",
       "  u'utc_date': datetime.datetime(2015, 4, 25, 0, 0)},\n",
       " {'account_key': u'108',\n",
       "  u'lessons_completed': 0,\n",
       "  u'num_courses_visited': 0,\n",
       "  u'projects_completed': 0,\n",
       "  u'total_minutes_visited': 0.0,\n",
       "  u'utc_date': datetime.datetime(2015, 4, 26, 0, 0)},\n",
       " {'account_key': u'108',\n",
       "  u'lessons_completed': 0,\n",
       "  u'num_courses_visited': 0,\n",
       "  u'projects_completed': 2,\n",
       "  u'total_minutes_visited': 0.0,\n",
       "  u'utc_date': datetime.datetime(2015, 4, 27, 0, 0)},\n",
       " {'account_key': u'108',\n",
       "  u'lessons_completed': 0,\n",
       "  u'num_courses_visited': 0,\n",
       "  u'projects_completed': 0,\n",
       "  u'total_minutes_visited': 0.0,\n",
       "  u'utc_date': datetime.datetime(2015, 4, 28, 0, 0)},\n",
       " {'account_key': u'108',\n",
       "  u'lessons_completed': 0,\n",
       "  u'num_courses_visited': 1,\n",
       "  u'projects_completed': 0,\n",
       "  u'total_minutes_visited': 23.1241541667,\n",
       "  u'utc_date': datetime.datetime(2015, 4, 29, 0, 0)},\n",
       " {'account_key': u'108',\n",
       "  u'lessons_completed': 0,\n",
       "  u'num_courses_visited': 0,\n",
       "  u'projects_completed': 0,\n",
       "  u'total_minutes_visited': 0.0,\n",
       "  u'utc_date': datetime.datetime(2015, 4, 30, 0, 0)},\n",
       " {'account_key': u'108',\n",
       "  u'lessons_completed': 0,\n",
       "  u'num_courses_visited': 0,\n",
       "  u'projects_completed': 0,\n",
       "  u'total_minutes_visited': 0.0,\n",
       "  u'utc_date': datetime.datetime(2015, 5, 1, 0, 0)},\n",
       " {'account_key': u'108',\n",
       "  u'lessons_completed': 0,\n",
       "  u'num_courses_visited': 0,\n",
       "  u'projects_completed': 0,\n",
       "  u'total_minutes_visited': 0.0,\n",
       "  u'utc_date': datetime.datetime(2015, 5, 2, 0, 0)},\n",
       " {'account_key': u'108',\n",
       "  u'lessons_completed': 0,\n",
       "  u'num_courses_visited': 0,\n",
       "  u'projects_completed': 0,\n",
       "  u'total_minutes_visited': 0.0,\n",
       "  u'utc_date': datetime.datetime(2015, 5, 3, 0, 0)},\n",
       " {'account_key': u'108',\n",
       "  u'lessons_completed': 0,\n",
       "  u'num_courses_visited': 0,\n",
       "  u'projects_completed': 0,\n",
       "  u'total_minutes_visited': 0.0,\n",
       "  u'utc_date': datetime.datetime(2015, 5, 4, 0, 0)},\n",
       " {'account_key': u'108',\n",
       "  u'lessons_completed': 0,\n",
       "  u'num_courses_visited': 0,\n",
       "  u'projects_completed': 0,\n",
       "  u'total_minutes_visited': 0.0,\n",
       "  u'utc_date': datetime.datetime(2015, 5, 5, 0, 0)},\n",
       " {'account_key': u'108',\n",
       "  u'lessons_completed': 0,\n",
       "  u'num_courses_visited': 0,\n",
       "  u'projects_completed': 0,\n",
       "  u'total_minutes_visited': 0.0,\n",
       "  u'utc_date': datetime.datetime(2015, 5, 6, 0, 0)},\n",
       " {'account_key': u'108',\n",
       "  u'lessons_completed': 0,\n",
       "  u'num_courses_visited': 0,\n",
       "  u'projects_completed': 0,\n",
       "  u'total_minutes_visited': 0.0,\n",
       "  u'utc_date': datetime.datetime(2015, 5, 7, 0, 0)},\n",
       " {'account_key': u'108',\n",
       "  u'lessons_completed': 0,\n",
       "  u'num_courses_visited': 1,\n",
       "  u'projects_completed': 0,\n",
       "  u'total_minutes_visited': 21.8722345,\n",
       "  u'utc_date': datetime.datetime(2015, 5, 8, 0, 0)},\n",
       " {'account_key': u'108',\n",
       "  u'lessons_completed': 0,\n",
       "  u'num_courses_visited': 0,\n",
       "  u'projects_completed': 1,\n",
       "  u'total_minutes_visited': 0.0,\n",
       "  u'utc_date': datetime.datetime(2015, 5, 9, 0, 0)},\n",
       " {'account_key': u'108',\n",
       "  u'lessons_completed': 0,\n",
       "  u'num_courses_visited': 0,\n",
       "  u'projects_completed': 0,\n",
       "  u'total_minutes_visited': 0.0,\n",
       "  u'utc_date': datetime.datetime(2015, 5, 10, 0, 0)},\n",
       " {'account_key': u'108',\n",
       "  u'lessons_completed': 0,\n",
       "  u'num_courses_visited': 0,\n",
       "  u'projects_completed': 0,\n",
       "  u'total_minutes_visited': 0.0,\n",
       "  u'utc_date': datetime.datetime(2015, 5, 11, 0, 0)},\n",
       " {'account_key': u'108',\n",
       "  u'lessons_completed': 0,\n",
       "  u'num_courses_visited': 0,\n",
       "  u'projects_completed': 0,\n",
       "  u'total_minutes_visited': 0.0,\n",
       "  u'utc_date': datetime.datetime(2015, 5, 12, 0, 0)},\n",
       " {'account_key': u'108',\n",
       "  u'lessons_completed': 0,\n",
       "  u'num_courses_visited': 0,\n",
       "  u'projects_completed': 0,\n",
       "  u'total_minutes_visited': 0.0,\n",
       "  u'utc_date': datetime.datetime(2015, 5, 13, 0, 0)}]"
      ]
     },
     "execution_count": 60,
     "metadata": {},
     "output_type": "execute_result"
    }
   ],
   "source": [
    "# Remove Udacity test accounts from all three tables\n",
    "non_udacity_enrollments = remove_udacity_accounts(enrollments)\n",
    "non_udacity_engagement = remove_udacity_accounts(daily_engagement)\n",
    "non_udacity_submissions = remove_udacity_accounts(project_submissions)\n",
    "\n",
    "print len(non_udacity_enrollments)\n",
    "print len(non_udacity_engagement)\n",
    "print len(non_udacity_submissions)\n",
    "\n",
    "# print [e for e in non_udacity_enrollments if e['account_key'] == '108']\n",
    "[e for e in non_udacity_engagement if e['account_key'] == '108']"
   ]
  },
  {
   "cell_type": "markdown",
   "metadata": {},
   "source": [
    "## Refining the Question"
   ]
  },
  {
   "cell_type": "code",
   "execution_count": 71,
   "metadata": {},
   "outputs": [
    {
     "data": {
      "text/plain": [
       "datetime.datetime(2015, 4, 20, 0, 0)"
      ]
     },
     "execution_count": 71,
     "metadata": {},
     "output_type": "execute_result"
    }
   ],
   "source": [
    "#####################################\n",
    "#                 6                 #\n",
    "#####################################\n",
    "## Create a dictionary named paid_students containing all students who either\n",
    "## haven't canceled yet or who remained enrolled for more than 7 days. The keys\n",
    "## should be account keys, and the values should be the date the student enrolled.\n",
    "\n",
    "paid_students = {}\n",
    "\n",
    "for e in non_udacity_enrollments:\n",
    "    \n",
    "    if e['days_to_cancel'] > 7 or e['days_to_cancel'] == None:\n",
    "        if e['account_key'] not in paid_students:\n",
    "            paid_students[e['account_key']] = e['join_date']\n",
    "        elif paid_students[e['account_key']] < e['join_date']:\n",
    "            paid_students[e['account_key']] = e['join_date']\n",
    "            \n",
    "\n",
    "paid_students['108']"
   ]
  },
  {
   "cell_type": "markdown",
   "metadata": {},
   "source": [
    "## Getting Data from First Week"
   ]
  },
  {
   "cell_type": "code",
   "execution_count": 76,
   "metadata": {
    "collapsed": true
   },
   "outputs": [],
   "source": [
    "# Takes a student's join date and the date of a specific engagement record,\n",
    "# and returns True if that engagement record happened within one week\n",
    "# of the student joining.\n",
    "def within_one_week(join_date, engagement_date):\n",
    "    time_delta = engagement_date - join_date\n",
    "    return time_delta.days < 7 and time_delta.days >= 0"
   ]
  },
  {
   "cell_type": "code",
   "execution_count": 77,
   "metadata": {},
   "outputs": [
    {
     "data": {
      "text/plain": [
       "6919"
      ]
     },
     "execution_count": 77,
     "metadata": {},
     "output_type": "execute_result"
    }
   ],
   "source": [
    "#####################################\n",
    "#                 7                 #\n",
    "#####################################\n",
    "paid_engagement_in_first_week = []\n",
    "\n",
    "\n",
    "for student in paid_students:\n",
    "    for engage in non_udacity_engagement:\n",
    "        e_account_key = engage['account_key']\n",
    "        \n",
    "        if(e_account_key == student) and within_one_week(paid_students[student], engage['utc_date']):\n",
    "            paid_engagement_in_first_week.append(engage)\n",
    "\n",
    "len(paid_engagement_in_first_week)"
   ]
  },
  {
   "cell_type": "code",
   "execution_count": null,
   "metadata": {},
   "outputs": [],
   "source": []
  },
  {
   "cell_type": "markdown",
   "metadata": {},
   "source": [
    "## Exploring Student Engagement"
   ]
  },
  {
   "cell_type": "code",
   "execution_count": 78,
   "metadata": {
    "collapsed": true
   },
   "outputs": [],
   "source": [
    "from collections import defaultdict\n",
    "\n",
    "# Create a dictionary of engagement grouped by student.\n",
    "# The keys are account keys, and the values are lists of engagement records.\n",
    "engagement_by_account = defaultdict(list)\n",
    "for engagement_record in paid_engagement_in_first_week:\n",
    "    account_key = engagement_record['account_key']\n",
    "    engagement_by_account[account_key].append(engagement_record)"
   ]
  },
  {
   "cell_type": "code",
   "execution_count": 79,
   "metadata": {
    "collapsed": true
   },
   "outputs": [],
   "source": [
    "# Create a dictionary with the total minutes each student spent in the classroom during the first week.\n",
    "# The keys are account keys, and the values are numbers (total minutes)\n",
    "total_minutes_by_account = {}\n",
    "for account_key, engagement_for_student in engagement_by_account.items():\n",
    "    total_minutes = 0\n",
    "    for engagement_record in engagement_for_student:\n",
    "        total_minutes += engagement_record['total_minutes_visited']\n",
    "    total_minutes_by_account[account_key] = total_minutes"
   ]
  },
  {
   "cell_type": "code",
   "execution_count": 80,
   "metadata": {},
   "outputs": [
    {
     "name": "stdout",
     "output_type": "stream",
     "text": [
      "Mean: 306.708326753\n",
      "Standard deviation: 412.996933409\n",
      "Minimum: 0.0\n",
      "Maximum: 3564.7332645\n"
     ]
    }
   ],
   "source": [
    "import numpy as np\n",
    "\n",
    "# Summarize the data about minutes spent in the classroom\n",
    "total_minutes = total_minutes_by_account.values()\n",
    "print 'Mean:', np.mean(total_minutes)\n",
    "print 'Standard deviation:', np.std(total_minutes)\n",
    "print 'Minimum:', np.min(total_minutes)\n",
    "print 'Maximum:', np.max(total_minutes)"
   ]
  },
  {
   "cell_type": "markdown",
   "metadata": {},
   "source": [
    "## Debugging Data Analysis Code"
   ]
  },
  {
   "cell_type": "code",
   "execution_count": 81,
   "metadata": {},
   "outputs": [
    {
     "data": {
      "text/plain": [
       "[{'account_key': u'108',\n",
       "  u'lessons_completed': 0,\n",
       "  u'num_courses_visited': 2,\n",
       "  u'projects_completed': 0,\n",
       "  u'total_minutes_visited': 25.9137858334,\n",
       "  u'utc_date': datetime.datetime(2015, 4, 20, 0, 0)},\n",
       " {'account_key': u'108',\n",
       "  u'lessons_completed': 0,\n",
       "  u'num_courses_visited': 1,\n",
       "  u'projects_completed': 0,\n",
       "  u'total_minutes_visited': 3.40682316667,\n",
       "  u'utc_date': datetime.datetime(2015, 4, 21, 0, 0)},\n",
       " {'account_key': u'108',\n",
       "  u'lessons_completed': 0,\n",
       "  u'num_courses_visited': 2,\n",
       "  u'projects_completed': 0,\n",
       "  u'total_minutes_visited': 99.1186611667,\n",
       "  u'utc_date': datetime.datetime(2015, 4, 22, 0, 0)},\n",
       " {'account_key': u'108',\n",
       "  u'lessons_completed': 0,\n",
       "  u'num_courses_visited': 1,\n",
       "  u'projects_completed': 2,\n",
       "  u'total_minutes_visited': 35.8316206667,\n",
       "  u'utc_date': datetime.datetime(2015, 4, 23, 0, 0)},\n",
       " {'account_key': u'108',\n",
       "  u'lessons_completed': 0,\n",
       "  u'num_courses_visited': 0,\n",
       "  u'projects_completed': 0,\n",
       "  u'total_minutes_visited': 0.0,\n",
       "  u'utc_date': datetime.datetime(2015, 4, 24, 0, 0)},\n",
       " {'account_key': u'108',\n",
       "  u'lessons_completed': 0,\n",
       "  u'num_courses_visited': 0,\n",
       "  u'projects_completed': 0,\n",
       "  u'total_minutes_visited': 0.0,\n",
       "  u'utc_date': datetime.datetime(2015, 4, 25, 0, 0)},\n",
       " {'account_key': u'108',\n",
       "  u'lessons_completed': 0,\n",
       "  u'num_courses_visited': 0,\n",
       "  u'projects_completed': 0,\n",
       "  u'total_minutes_visited': 0.0,\n",
       "  u'utc_date': datetime.datetime(2015, 4, 26, 0, 0)}]"
      ]
     },
     "execution_count": 81,
     "metadata": {},
     "output_type": "execute_result"
    }
   ],
   "source": [
    "# #                 8                 #\n",
    "#####################################\n",
    "# for t in total_minutes_by_account:\n",
    "#     if total_minutes_by_account[t] > 10080:\n",
    "#         print t, total_minutes_by_account[t]\n",
    "\n",
    "# engagement_by_account['108']\n",
    "[e for e in paid_engagement_in_first_week if e['account_key'] == '108'] \n",
    "# [e for e in engagement_by_account if e['total_minutes_visited'] > 105]\n",
    "## Go through a similar process as before to see if there is a problem.\n",
    "## Locate at least one surprising piece of data, output it, and take a look at it."
   ]
  },
  {
   "cell_type": "markdown",
   "metadata": {},
   "source": [
    "## Lessons Completed in First Week"
   ]
  },
  {
   "cell_type": "code",
   "execution_count": 87,
   "metadata": {},
   "outputs": [],
   "source": [
    "#####################################\n",
    "#                 9                 #\n",
    "#####################################\n",
    "\n",
    "total_compelete_lessons_by_account = {}\n",
    "for account_key, engagement_for_student in engagement_by_account.items():\n",
    "    total_complete_lessons = 0\n",
    "    for engagement_record in engagement_for_student:\n",
    "        total_complete_lessons += engagement_record['lessons_completed']\n",
    "    total_compelete_lessons_by_account[account_key] = total_complete_lessons\n",
    "                                                    \n",
    "                                              "
   ]
  },
  {
   "cell_type": "code",
   "execution_count": 88,
   "metadata": {
    "collapsed": true
   },
   "outputs": [],
   "source": [
    "import numpy as np\n",
    "\n",
    "def printStatistics(total_data_by_account):\n",
    "    toal_data = total_data_by_account.values()\n",
    "    print 'Mean:', np.mean(toal_data)\n",
    "    print 'Standard deviation:', np.std(toal_data)\n",
    "    print 'Minimum:', np.min(toal_data)\n",
    "    print 'Maximum:', np.max(toal_data)"
   ]
  },
  {
   "cell_type": "code",
   "execution_count": 89,
   "metadata": {},
   "outputs": [
    {
     "name": "stdout",
     "output_type": "stream",
     "text": [
      "Mean: 1.63618090452\n",
      "Standard deviation: 3.00256129983\n",
      "Minimum: 0\n",
      "Maximum: 36\n"
     ]
    }
   ],
   "source": [
    "printStatistics(total_compelete_lessons_by_account)"
   ]
  },
  {
   "cell_type": "markdown",
   "metadata": {},
   "source": [
    "## Number of Visits in First Week"
   ]
  },
  {
   "cell_type": "code",
   "execution_count": 23,
   "metadata": {
    "collapsed": true
   },
   "outputs": [],
   "source": [
    "######################################\n",
    "#                 10                 #\n",
    "######################################\n",
    "\n",
    "## Find the mean, standard deviation, minimum, and maximum for the number of\n",
    "## days each student visits the classroom during the first week."
   ]
  },
  {
   "cell_type": "markdown",
   "metadata": {},
   "source": [
    "## Splitting out Passing Students"
   ]
  },
  {
   "cell_type": "code",
   "execution_count": 24,
   "metadata": {},
   "outputs": [
    {
     "ename": "SyntaxError",
     "evalue": "invalid syntax (<ipython-input-24-8e3a81c66922>, line 12)",
     "output_type": "error",
     "traceback": [
      "\u001b[0;36m  File \u001b[0;32m\"<ipython-input-24-8e3a81c66922>\"\u001b[0;36m, line \u001b[0;32m12\u001b[0m\n\u001b[0;31m    passing_engagement =\u001b[0m\n\u001b[0m                        ^\u001b[0m\n\u001b[0;31mSyntaxError\u001b[0m\u001b[0;31m:\u001b[0m invalid syntax\n"
     ]
    }
   ],
   "source": [
    "######################################\n",
    "#                 11                 #\n",
    "######################################\n",
    "\n",
    "## Create two lists of engagement data for paid students in the first week.\n",
    "## The first list should contain data for students who eventually pass the\n",
    "## subway project, and the second list should contain data for students\n",
    "## who do not.\n",
    "\n",
    "subway_project_lesson_keys = ['746169184', '3176718735']\n",
    "\n",
    "\n",
    "passing_engagement =\n",
    "non_passing_engagement ="
   ]
  },
  {
   "cell_type": "code",
   "execution_count": 91,
   "metadata": {},
   "outputs": [
    {
     "data": {
      "text/plain": [
       "{u'account_key': u'256',\n",
       " u'assigned_rating': u'UNGRADED',\n",
       " u'completion_date': datetime.datetime(2015, 1, 16, 0, 0),\n",
       " u'creation_date': datetime.datetime(2015, 1, 14, 0, 0),\n",
       " u'lesson_key': u'3176718735',\n",
       " u'processing_state': u'EVALUATED'}"
      ]
     },
     "execution_count": 91,
     "metadata": {},
     "output_type": "execute_result"
    }
   ],
   "source": [
    "project_submissions[0]"
   ]
  },
  {
   "cell_type": "markdown",
   "metadata": {},
   "source": [
    "## Comparing the Two Student Groups"
   ]
  },
  {
   "cell_type": "code",
   "execution_count": null,
   "metadata": {
    "collapsed": true
   },
   "outputs": [],
   "source": [
    "######################################\n",
    "#                 12                 #\n",
    "######################################\n",
    "\n",
    "## Compute some metrics you're interested in and see how they differ for\n",
    "## students who pass the subway project vs. students who don't. A good\n",
    "## starting point would be the metrics we looked at earlier (minutes spent\n",
    "## in the classroom, lessons completed, and days visited)."
   ]
  },
  {
   "cell_type": "markdown",
   "metadata": {},
   "source": [
    "## Making Histograms"
   ]
  },
  {
   "cell_type": "code",
   "execution_count": 95,
   "metadata": {},
   "outputs": [
    {
     "data": {
      "text/plain": [
       "<matplotlib.text.Text at 0x113535b10>"
      ]
     },
     "execution_count": 95,
     "metadata": {},
     "output_type": "execute_result"
    },
    {
     "data": {
      "image/png": "[encoded data removed]",
      "text/plain": [
       "<matplotlib.figure.Figure at 0x11375a650>"
      ]
     },
     "metadata": {},
     "output_type": "display_data"
    }
   ],
   "source": [
    "######################################\n",
    "#                 13                 #\n",
    "######################################\n",
    "%matplotlib inline\n",
    "\n",
    "import matplotlib.pyplot as plt\n",
    "\n",
    "plt.hist(total_compelete_lessons_by_account.values())\n",
    "plt.xlabel(\"Label for x axis\")\n",
    "plt.ylabel(\"Label for y axis\")\n",
    "plt.title(\"Title of plot\")\n",
    "\n",
    "\n",
    "## Make histograms of the three metrics we looked at earlier for both\n",
    "## students who passed the subway project and students who didn't. You\n",
    "## might also want to make histograms of any other metrics you examined."
   ]
  },
  {
   "cell_type": "markdown",
   "metadata": {},
   "source": [
    "## Improving Plots and Sharing Findings"
   ]
  },
  {
   "cell_type": "code",
   "execution_count": 104,
   "metadata": {},
   "outputs": [
    {
     "data": {
      "text/plain": [
       "(array([ 686.,  155.,   74.,   36.,   10.,   19.,    3.,    2.,    3.,\n",
       "           1.,    1.,    3.,    0.,    0.,    0.,    1.,    0.,    0.,\n",
       "           0.,    1.]),\n",
       " array([  0. ,   1.8,   3.6,   5.4,   7.2,   9. ,  10.8,  12.6,  14.4,\n",
       "         16.2,  18. ,  19.8,  21.6,  23.4,  25.2,  27. ,  28.8,  30.6,\n",
       "         32.4,  34.2,  36. ]),\n",
       " <a list of 20 Patch objects>)"
      ]
     },
     "execution_count": 104,
     "metadata": {},
     "output_type": "execute_result"
    },
    {
     "data": {
      "image/png": "[encoded data removed]",
      "text/plain": [
       "<matplotlib.figure.Figure at 0x119b38710>"
      ]
     },
     "metadata": {},
     "output_type": "display_data"
    }
   ],
   "source": [
    "######################################\n",
    "#                 14                 #\n",
    "######################################\n",
    "\n",
    "%matplotlib inline\n",
    "\n",
    "import matplotlib.pyplot as plt\n",
    "import seaborn as sns\n",
    "\n",
    "plt.xlabel(\"Label for x axis\")\n",
    "plt.ylabel(\"Label for y axis\")\n",
    "plt.title(\"Title of plot\")\n",
    "plt.hist(total_compelete_lessons_by_account.values(), bins=20)\n",
    "\n"
   ]
  },
  {
   "cell_type": "code",
   "execution_count": null,
   "metadata": {
    "collapsed": true
   },
   "outputs": [],
   "source": []
  }
 ],
 "metadata": {
  "kernelspec": {
   "display_name": "Python 2",
   "language": "python",
   "name": "python2"
  },
  "language_info": {
   "codemirror_mode": {
    "name": "ipython",
    "version": 2
   },
   "file_extension": ".py",
   "mimetype": "text/x-python",
   "name": "python",
   "nbconvert_exporter": "python",
   "pygments_lexer": "ipython2",
   "version": "2.7.13"
  }
 },
 "nbformat": 4,
 "nbformat_minor": 1
}
